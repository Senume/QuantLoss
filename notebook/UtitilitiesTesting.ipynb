{
 "cells": [
  {
   "cell_type": "markdown",
   "metadata": {},
   "source": [
    "### **IMPORT LIBRARY**\n"
   ]
  },
  {
   "cell_type": "code",
   "execution_count": 1,
   "metadata": {},
   "outputs": [],
   "source": [
    "# Import library\n",
    "import numpy as np\n",
    "import torch.nn as nn, torch\n",
    "from scipy.signal import savgol_filter\n",
    "from scipy import sparse\n",
    "import matplotlib.pyplot as plt\n",
    "import pickle\n",
    "import sys\n",
    "\n",
    "# Adding path to py files\n",
    "sys.path.append('../src')\n",
    "\n",
    "# Importing the custom quantization module\n",
    "from CustomQuantization import CustomQuantization as quant\n",
    "from convertQuantizeModel import convertDenseLayer\n",
    "from QuantLinearLayer import QuantLinear\n",
    "from utils_tensor import *"
   ]
  },
  {
   "cell_type": "markdown",
   "metadata": {},
   "source": [
    "### **LOADING WEIGHTS**\n"
   ]
  },
  {
   "cell_type": "code",
   "execution_count": 2,
   "metadata": {},
   "outputs": [],
   "source": [
    "# Weights file names\n",
    "bert_weight_name = 'bert-base-uncased'\n",
    "\n",
    "# Loading bert model\n",
    "with open(f'../saved/weights_only/{bert_weight_name}_weights.pkl','rb') as file:\n",
    "    bert_weights_dict = pickle.load(file)\n",
    "\n",
    "weight = bert_weights_dict['encoder.layer.9.attention.self.value.weight']"
   ]
  },
  {
   "cell_type": "markdown",
   "metadata": {},
   "source": [
    "### **QUANTIZATION MODULE**\n"
   ]
  },
  {
   "cell_type": "code",
   "execution_count": 3,
   "metadata": {},
   "outputs": [
    {
     "name": "stdout",
     "output_type": "stream",
     "text": [
      "Local minimum:  tensor(-0.1981)  Local max:  tensor(0.2093) Points:  500\n"
     ]
    },
    {
     "name": "stdout",
     "output_type": "stream",
     "text": [
      "Ratio of first region range coverage: tensor(0.3032) Region of selection index:  0\n",
      "Ratio of second region range coverage: tensor(0.2028) Region of selection index:  1\n",
      "First Region Range:  (tensor(-0.1467), tensor(-0.0234))\n",
      "Second Region Range (tensor(0.0068), tensor(0.0893))\n"
     ]
    }
   ],
   "source": [
    "QuantizationObject = quant()\n",
    "\n",
    "weight = torch.Tensor(weight)\n",
    "\n",
    "# Finding suitable weight range \n",
    "QuantizationObject.extractRange(weight, save_plot=False, plot_path='./plots/Sample.png')\n",
    "\n",
    "# Applying quantization\n",
    "QuantizationObject.proceedQuantization(weight)"
   ]
  },
  {
   "cell_type": "markdown",
   "metadata": {},
   "source": [
    "### **DUMMY MODEL CONVERSION TESTING**\n"
   ]
  },
  {
   "cell_type": "code",
   "execution_count": 4,
   "metadata": {},
   "outputs": [
    {
     "data": {
      "text/plain": [
       "NNModel(\n",
       "  (fc1): Linear(in_features=1000, out_features=120, bias=True)\n",
       "  (fc2): Linear(in_features=120, out_features=84, bias=True)\n",
       "  (fc3): Linear(in_features=84, out_features=10, bias=True)\n",
       ")"
      ]
     },
     "execution_count": 4,
     "metadata": {},
     "output_type": "execute_result"
    }
   ],
   "source": [
    "class NNModel(nn.Module):\n",
    "    def __init__(self):\n",
    "        super(NNModel, self).__init__()\n",
    "        self.fc1 = nn.Linear(1000, 120)\n",
    "        self.fc2 = nn.Linear(120, 84)\n",
    "        self.fc3 = nn.Linear(84, 10)\n",
    "\n",
    "    def forward(self, x):\n",
    "        x = self.fc1(x)\n",
    "        x = self.fc2(x)\n",
    "        x = self.fc3(x)\n",
    "        return x    \n",
    "    \n",
    "# Dummy Model\n",
    "SimpleNN = NNModel()\n",
    "SimpleNN"
   ]
  },
  {
   "cell_type": "code",
   "execution_count": 6,
   "metadata": {},
   "outputs": [
    {
     "name": "stdout",
     "output_type": "stream",
     "text": [
      "Layer Name: fc1\n",
      "Local minimum:  tensor(-0.0316, grad_fn=<MinBackward1>)  Local max:  tensor(0.0316, grad_fn=<MaxBackward1>) Points:  500\n",
      "Ratio of first region range coverage: tensor(0.1406) Region of selection index:  8\n",
      "Ratio of second region range coverage: tensor(0.1365) Region of selection index:  0\n",
      "First Region Range:  (tensor(-0.0316), tensor(-0.0230))\n",
      "Second Region Range (tensor(0.0174), tensor(0.0263))\n",
      "Layer Name: fc2\n",
      "Local minimum:  tensor(-0.0913, grad_fn=<MinBackward1>)  Local max:  tensor(0.0913, grad_fn=<MaxBackward1>) Points:  500\n",
      "Ratio of first region range coverage: tensor(0.3635) Region of selection index:  2\n",
      "Ratio of second region range coverage: tensor(0.2008) Region of selection index:  0\n",
      "First Region Range:  (tensor(-0.0913), tensor(-0.0547))\n",
      "Second Region Range (tensor(0.0247), tensor(0.0909))\n",
      "Layer Name: fc3\n",
      "Local minimum:  tensor(-0.1088, grad_fn=<MinBackward1>)  Local max:  tensor(0.1091, grad_fn=<MaxBackward1>) Points:  500\n",
      "Ratio of first region range coverage: tensor(0.1185) Region of selection index:  4\n",
      "Ratio of second region range coverage: tensor(0.0743) Region of selection index:  0\n",
      "First Region Range:  (tensor(-0.1088), tensor(-0.0926))\n",
      "Second Region Range (tensor(-0.0839), tensor(-0.0581))\n"
     ]
    },
    {
     "data": {
      "text/plain": [
       "NNModel(\n",
       "  (fc1): QuantLinear()\n",
       "  (fc2): QuantLinear()\n",
       "  (fc3): QuantLinear()\n",
       ")"
      ]
     },
     "execution_count": 6,
     "metadata": {},
     "output_type": "execute_result"
    }
   ],
   "source": [
    "QuantNN = convertDenseLayer(SimpleNN, requires_plot=False)\n",
    "QuantNN"
   ]
  },
  {
   "cell_type": "code",
   "execution_count": 6,
   "metadata": {},
   "outputs": [
    {
     "data": {
      "text/plain": [
       "SimpleCNN(\n",
       "  (conv1): Conv2d(3, 32, kernel_size=(3, 3), stride=(1, 1), padding=(1, 1))\n",
       "  (conv2): Conv2d(32, 64, kernel_size=(3, 3), stride=(1, 1), padding=(1, 1))\n",
       "  (conv3): Conv2d(64, 128, kernel_size=(3, 3), stride=(1, 1), padding=(1, 1))\n",
       "  (pool): MaxPool2d(kernel_size=2, stride=2, padding=0, dilation=1, ceil_mode=False)\n",
       "  (fc1): Linear(in_features=2048, out_features=512, bias=True)\n",
       "  (fc2): Linear(in_features=512, out_features=10, bias=True)\n",
       "  (relu): ReLU()\n",
       ")"
      ]
     },
     "execution_count": 6,
     "metadata": {},
     "output_type": "execute_result"
    }
   ],
   "source": [
    "class SimpleCNN(nn.Module):\n",
    "    def __init__(self, num_classes=10):\n",
    "        super(SimpleCNN, self).__init__()\n",
    "        \n",
    "        # Define convolutional layers\n",
    "        self.conv1 = nn.Conv2d(in_channels=3, out_channels=32, kernel_size=3, padding=1)\n",
    "        self.conv2 = nn.Conv2d(32, 64, kernel_size=3, padding=1)\n",
    "        self.conv3 = nn.Conv2d(64, 128, kernel_size=3, padding=1)\n",
    "        \n",
    "        # Define max pooling layers\n",
    "        self.pool = nn.MaxPool2d(kernel_size=2, stride=2)\n",
    "        \n",
    "        # Define fully connected layers\n",
    "        self.fc1 = nn.Linear(128 * 4 * 4, 512)\n",
    "        self.fc2 = nn.Linear(512, num_classes)\n",
    "        \n",
    "        # Define activation function\n",
    "        self.relu = nn.ReLU()\n",
    "\n",
    "    def forward(self, x):\n",
    "        # Convolutional layers with ReLU activation and max pooling\n",
    "        x = self.pool(self.relu(self.conv1(x)))\n",
    "        x = self.pool(self.relu(self.conv2(x)))\n",
    "        x = self.pool(self.relu(self.conv3(x)))\n",
    "        \n",
    "        # Flatten the tensor for fully connected layers\n",
    "        x = x.view(-1, 128 * 4 * 4)\n",
    "        \n",
    "        # Fully connected layers with ReLU activation\n",
    "        x = self.relu(self.fc1(x))\n",
    "        x = self.fc2(x)\n",
    "        return x\n",
    "\n",
    "# Create an instance of the SimpleCNN model\n",
    "CNNmodel = SimpleCNN()\n",
    "CNNmodel\n"
   ]
  },
  {
   "cell_type": "code",
   "execution_count": 7,
   "metadata": {},
   "outputs": [
    {
     "name": "stdout",
     "output_type": "stream",
     "text": [
      "Layer Name: fc1\n",
      "Local minimum:  -0.022097081  Local max:  0.022096813 Points:  44\n",
      "Ratio of first region range coverage: 0.4523809523809524 Region of selection index:  1\n",
      "Ratio of second region range coverage: 0.3333333333333333 Region of selection index:  0\n",
      "First Region Range:  (-0.022097080945968628, -0.00803538750518452)\n",
      "Second Region Range (0.0010042725638909795, 0.020087999376383697)\n",
      "Layer Name: fc2\n",
      "Local minimum:  -0.04419101  Local max:  0.04417848 Points:  88\n",
      "Ratio of first region range coverage: 0.2558139534883721 Region of selection index:  3\n",
      "Ratio of second region range coverage: 0.22093023255813954 Region of selection index:  0\n",
      "First Region Range:  (-0.04419101029634476, -0.025111234323544934)\n",
      "Second Region Range (0.02007770876992833, 0.0421700809489597)\n"
     ]
    },
    {
     "data": {
      "text/plain": [
       "SimpleCNN(\n",
       "  (conv1): Conv2d(3, 32, kernel_size=(3, 3), stride=(1, 1), padding=(1, 1))\n",
       "  (conv2): Conv2d(32, 64, kernel_size=(3, 3), stride=(1, 1), padding=(1, 1))\n",
       "  (conv3): Conv2d(64, 128, kernel_size=(3, 3), stride=(1, 1), padding=(1, 1))\n",
       "  (pool): MaxPool2d(kernel_size=2, stride=2, padding=0, dilation=1, ceil_mode=False)\n",
       "  (fc1): QuantLinear()\n",
       "  (fc2): QuantLinear()\n",
       "  (relu): ReLU()\n",
       ")"
      ]
     },
     "execution_count": 7,
     "metadata": {},
     "output_type": "execute_result"
    }
   ],
   "source": [
    "Qunat_model = convertDenseLayer(CNNmodel)\n",
    "Qunat_model"
   ]
  },
  {
   "cell_type": "markdown",
   "metadata": {},
   "source": [
    "### **PYTORCH TENSOR FUNCTION TESTING**\n"
   ]
  },
  {
   "cell_type": "code",
   "execution_count": 1,
   "metadata": {},
   "outputs": [],
   "source": [
    "import sys\n",
    "import torch, torchaudio\n",
    "import matplotlib.pyplot as plt\n",
    "\n",
    "sys.path.append('../src')\n",
    "from utils import *"
   ]
  },
  {
   "cell_type": "code",
   "execution_count": 2,
   "metadata": {},
   "outputs": [
    {
     "name": "stdout",
     "output_type": "stream",
     "text": [
      "Local minimum:  tensor(0.0716)  Local max:  tensor(0.8518) Points:  500\n"
     ]
    },
    {
     "data": {
      "text/plain": [
       "[<matplotlib.lines.Line2D at 0x7f60ef36dd00>]"
      ]
     },
     "execution_count": 2,
     "metadata": {},
     "output_type": "execute_result"
    },
    {
     "data": {
      "image/png": "[encoded data removed]",
      "text/plain": [
       "<Figure size 640x480 with 1 Axes>"
      ]
     },
     "metadata": {},
     "output_type": "display_data"
    }
   ],
   "source": [
    "\n",
    "X = torch.rand((1, 5))\n",
    "Weight = torch.rand((3, 5))\n",
    "Y = Weight@X.T\n",
    "\n",
    "Mag, Loss = findLossPerThreshold(X, Weight, Y, lploss)\n",
    "\n",
    "plt.plot(Mag.numpy(), Loss.numpy(),)\n",
    "\n",
    "\n",
    "\n"
   ]
  },
  {
   "cell_type": "code",
   "execution_count": 12,
   "metadata": {},
   "outputs": [
    {
     "name": "stdout",
     "output_type": "stream",
     "text": [
      "Ratio of first region range coverage: tensor(0.2857) Region of selection index:  2\n",
      "Ratio of second region range coverage: tensor(0.2143) Region of selection index:  1\n"
     ]
    },
    {
     "data": {
      "text/plain": [
       "[(tensor([0.0508, 0.0508, 0.0508, 0.0508, 0.0508]),\n",
       "  tensor([0.0872, 0.0888, 0.0904, 0.0919, 0.0935])),\n",
       " (tensor([0.0508, 0.0508, 0.0508, 0.0508]),\n",
       "  tensor([0.0794, 0.0810, 0.0825, 0.0841]))]"
      ]
     },
     "execution_count": 12,
     "metadata": {},
     "output_type": "execute_result"
    }
   ],
   "source": [
    "A = Loss[:15]\n",
    "B = Mag[:15]\n",
    "C = torch.tensor([False,True,True,True,False,True,True,True,True,False,True,True,True,True,True])\n",
    "\n",
    "Regions = findRanges(C, A, B)\n",
    "findLargestRegion(Regions, B[-1] - B[0])\n",
    "\n"
   ]
  },
  {
   "cell_type": "code",
   "execution_count": 1,
   "metadata": {},
   "outputs": [
    {
     "ename": "NameError",
     "evalue": "name 'torch' is not defined",
     "output_type": "error",
     "traceback": [
      "\u001b[0;31m---------------------------------------------------------------------------\u001b[0m",
      "\u001b[0;31mNameError\u001b[0m                                 Traceback (most recent call last)",
      "Cell \u001b[0;32mIn[1], line 1\u001b[0m\n\u001b[0;32m----> 1\u001b[0m Array \u001b[38;5;241m=\u001b[39m \u001b[43mtorch\u001b[49m\u001b[38;5;241m.\u001b[39mrandint(\u001b[38;5;241m0\u001b[39m, \u001b[38;5;241m2\u001b[39m, (\u001b[38;5;241m5\u001b[39m,\u001b[38;5;241m5\u001b[39m))\n\u001b[1;32m      2\u001b[0m torch\u001b[38;5;241m.\u001b[39msparse\u001b[38;5;241m.\u001b[39mto_sparse_semi_structured(Array)\n",
      "\u001b[0;31mNameError\u001b[0m: name 'torch' is not defined"
     ]
    }
   ],
   "source": [
    "Array = torch.randint(0, 2, (5,5))\n",
    "torch.sparse.to_sparse_semi_structured(Array)"
   ]
  }
 ],
 "metadata": {
  "kernelspec": {
   "display_name": "Quant",
   "language": "python",
   "name": "python3"
  },
  "language_info": {
   "codemirror_mode": {
    "name": "ipython",
    "version": 3
   },
   "file_extension": ".py",
   "mimetype": "text/x-python",
   "name": "python",
   "nbconvert_exporter": "python",
   "pygments_lexer": "ipython3",
   "version": "3.9.0"
  }
 },
 "nbformat": 4,
 "nbformat_minor": 2
}
