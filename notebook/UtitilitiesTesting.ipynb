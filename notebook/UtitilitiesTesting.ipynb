{
 "cells": [
  {
   "cell_type": "markdown",
   "metadata": {},
   "source": [
    "### **IMPORT LIBRARY**\n"
   ]
  },
  {
   "cell_type": "code",
   "execution_count": 1,
   "metadata": {},
   "outputs": [],
   "source": [
    "# Import library\n",
    "import numpy as np\n",
    "import torch.nn as nn, torch\n",
    "from scipy.signal import savgol_filter\n",
    "from scipy import sparse\n",
    "import matplotlib.pyplot as plt\n",
    "import pickle\n",
    "import sys\n",
    "\n",
    "# Adding path to py files\n",
    "sys.path.append('../src')\n",
    "\n",
    "# Importing the custom quantization module\n",
    "from CustomQuantization import CustomQuantization as quant\n",
    "from convertQuantizeModel import convertDenseLayer\n",
    "from QuantLinearLayer import QuantLinear"
   ]
  },
  {
   "cell_type": "markdown",
   "metadata": {},
   "source": [
    "### **LOADING WEIGHTS**\n"
   ]
  },
  {
   "cell_type": "code",
   "execution_count": 2,
   "metadata": {},
   "outputs": [],
   "source": [
    "# Weights file names\n",
    "bert_weight_name = 'bert-base-uncased'\n",
    "\n",
    "# Loading bert model\n",
    "with open(f'../saved/weights_only/{bert_weight_name}_weights.pkl','rb') as file:\n",
    "    bert_weights_dict = pickle.load(file)\n",
    "\n",
    "weight = bert_weights_dict['encoder.layer.9.attention.self.value.weight']"
   ]
  },
  {
   "cell_type": "markdown",
   "metadata": {},
   "source": [
    "### **QUANTIZATION MODULE**\n"
   ]
  },
  {
   "cell_type": "code",
   "execution_count": 3,
   "metadata": {},
   "outputs": [
    {
     "name": "stdout",
     "output_type": "stream",
     "text": [
      "Local minimum:  -0.19814117  Local max:  0.20933148 Points:  407\n",
      "Ratio of first region range coverage: 0.31358024691358033 Region of selection index:  2\n",
      "Ratio of second region range coverage: 0.19506172839506172 Region of selection index:  3\n",
      "First Region Range:  (-0.14708194546676093, -0.019934458470461686)\n",
      "Second Region Range (0.006095735717757039, 0.08518747959734474)\n"
     ]
    }
   ],
   "source": [
    "QuantizationObject = quant()\n",
    "\n",
    "# Finding suitable weight range \n",
    "QuantizationObject.extractRange(weight.copy(), save_plot=False, plot_path='./plots/Sample.png')\n",
    "\n",
    "# Applying quantization\n",
    "QuantizationObject.proceedQuantization(weight.copy())"
   ]
  },
  {
   "cell_type": "markdown",
   "metadata": {},
   "source": [
    "### **DUMMY MODEL CONVERSION TESTING**\n"
   ]
  },
  {
   "cell_type": "code",
   "execution_count": 4,
   "metadata": {},
   "outputs": [
    {
     "data": {
      "text/plain": [
       "NNModel(\n",
       "  (fc1): Linear(in_features=1000, out_features=120, bias=True)\n",
       "  (fc2): Linear(in_features=120, out_features=84, bias=True)\n",
       "  (fc3): Linear(in_features=84, out_features=10, bias=True)\n",
       ")"
      ]
     },
     "execution_count": 4,
     "metadata": {},
     "output_type": "execute_result"
    }
   ],
   "source": [
    "class NNModel(nn.Module):\n",
    "    def __init__(self):\n",
    "        super(NNModel, self).__init__()\n",
    "        self.fc1 = nn.Linear(1000, 120)\n",
    "        self.fc2 = nn.Linear(120, 84)\n",
    "        self.fc3 = nn.Linear(84, 10)\n",
    "\n",
    "    def forward(self, x):\n",
    "        x = self.fc1(x)\n",
    "        x = self.fc2(x)\n",
    "        x = self.fc3(x)\n",
    "        return x    \n",
    "    \n",
    "# Dummy Model\n",
    "SimpleNN = NNModel()\n",
    "SimpleNN"
   ]
  },
  {
   "cell_type": "code",
   "execution_count": 5,
   "metadata": {},
   "outputs": [
    {
     "name": "stdout",
     "output_type": "stream",
     "text": [
      "Folder 'plots/' already exists.\n",
      "Layer Name: fc1\n",
      "Local minimum:  -0.03162242  Local max:  0.031621963 Points:  63\n",
      "Ratio of first region range coverage: 0.4098360655737705 Region of selection index:  0\n",
      "Ratio of second region range coverage: 0.06557377049180323 Region of selection index:  1\n",
      "First Region Range:  (-0.031622420996427536, -0.00652544330509882)\n",
      "Second Region Range (0.017567655278576746, 0.021583171709189337)\n",
      "Layer Name: fc2\n",
      "Local minimum:  -0.091281354  Local max:  0.091267414 Points:  182\n",
      "Ratio of first region range coverage: 0.3333333333333333 Region of selection index:  2\n",
      "Ratio of second region range coverage: 0.18888888888888888 Region of selection index:  0\n",
      "First Region Range:  (-0.09128135442733765, -0.057178837175552666)\n",
      "Second Region Range (0.029080471167197586, 0.0892613839644652)\n",
      "Layer Name: fc3\n",
      "Local minimum:  -0.1090786  Local max:  0.108907275 Points:  217\n",
      "Ratio of first region range coverage: 0.1953488372093023 Region of selection index:  10\n",
      "Ratio of second region range coverage: 0.13488372093023254 Region of selection index:  0\n",
      "First Region Range:  (-0.10907860100269318, -0.07994684800162294)\n",
      "Second Region Range (0.06470737379679481, 0.10689818848799998)\n"
     ]
    },
    {
     "data": {
      "text/plain": [
       "NNModel(\n",
       "  (fc1): QuantLinear()\n",
       "  (fc2): QuantLinear()\n",
       "  (fc3): QuantLinear()\n",
       ")"
      ]
     },
     "execution_count": 5,
     "metadata": {},
     "output_type": "execute_result"
    }
   ],
   "source": [
    "QuantNN = convertDenseLayer(SimpleNN, requires_plot=True)\n",
    "QuantNN"
   ]
  },
  {
   "cell_type": "code",
   "execution_count": 6,
   "metadata": {},
   "outputs": [
    {
     "data": {
      "text/plain": [
       "SimpleCNN(\n",
       "  (conv1): Conv2d(3, 32, kernel_size=(3, 3), stride=(1, 1), padding=(1, 1))\n",
       "  (conv2): Conv2d(32, 64, kernel_size=(3, 3), stride=(1, 1), padding=(1, 1))\n",
       "  (conv3): Conv2d(64, 128, kernel_size=(3, 3), stride=(1, 1), padding=(1, 1))\n",
       "  (pool): MaxPool2d(kernel_size=2, stride=2, padding=0, dilation=1, ceil_mode=False)\n",
       "  (fc1): Linear(in_features=2048, out_features=512, bias=True)\n",
       "  (fc2): Linear(in_features=512, out_features=10, bias=True)\n",
       "  (relu): ReLU()\n",
       ")"
      ]
     },
     "execution_count": 6,
     "metadata": {},
     "output_type": "execute_result"
    }
   ],
   "source": [
    "class SimpleCNN(nn.Module):\n",
    "    def __init__(self, num_classes=10):\n",
    "        super(SimpleCNN, self).__init__()\n",
    "        \n",
    "        # Define convolutional layers\n",
    "        self.conv1 = nn.Conv2d(in_channels=3, out_channels=32, kernel_size=3, padding=1)\n",
    "        self.conv2 = nn.Conv2d(32, 64, kernel_size=3, padding=1)\n",
    "        self.conv3 = nn.Conv2d(64, 128, kernel_size=3, padding=1)\n",
    "        \n",
    "        # Define max pooling layers\n",
    "        self.pool = nn.MaxPool2d(kernel_size=2, stride=2)\n",
    "        \n",
    "        # Define fully connected layers\n",
    "        self.fc1 = nn.Linear(128 * 4 * 4, 512)\n",
    "        self.fc2 = nn.Linear(512, num_classes)\n",
    "        \n",
    "        # Define activation function\n",
    "        self.relu = nn.ReLU()\n",
    "\n",
    "    def forward(self, x):\n",
    "        # Convolutional layers with ReLU activation and max pooling\n",
    "        x = self.pool(self.relu(self.conv1(x)))\n",
    "        x = self.pool(self.relu(self.conv2(x)))\n",
    "        x = self.pool(self.relu(self.conv3(x)))\n",
    "        \n",
    "        # Flatten the tensor for fully connected layers\n",
    "        x = x.view(-1, 128 * 4 * 4)\n",
    "        \n",
    "        # Fully connected layers with ReLU activation\n",
    "        x = self.relu(self.fc1(x))\n",
    "        x = self.fc2(x)\n",
    "        return x\n",
    "\n",
    "# Create an instance of the SimpleCNN model\n",
    "CNNmodel = SimpleCNN()\n",
    "CNNmodel\n"
   ]
  },
  {
   "cell_type": "code",
   "execution_count": 7,
   "metadata": {},
   "outputs": [
    {
     "name": "stdout",
     "output_type": "stream",
     "text": [
      "Layer Name: fc1\n",
      "Local minimum:  -0.022097081  Local max:  0.022096813 Points:  44\n",
      "Ratio of first region range coverage: 0.4523809523809524 Region of selection index:  1\n",
      "Ratio of second region range coverage: 0.3333333333333333 Region of selection index:  0\n",
      "First Region Range:  (-0.022097080945968628, -0.00803538750518452)\n",
      "Second Region Range (0.0010042725638909795, 0.020087999376383697)\n",
      "Layer Name: fc2\n",
      "Local minimum:  -0.04419101  Local max:  0.04417848 Points:  88\n",
      "Ratio of first region range coverage: 0.2558139534883721 Region of selection index:  3\n",
      "Ratio of second region range coverage: 0.22093023255813954 Region of selection index:  0\n",
      "First Region Range:  (-0.04419101029634476, -0.025111234323544934)\n",
      "Second Region Range (0.02007770876992833, 0.0421700809489597)\n"
     ]
    },
    {
     "data": {
      "text/plain": [
       "SimpleCNN(\n",
       "  (conv1): Conv2d(3, 32, kernel_size=(3, 3), stride=(1, 1), padding=(1, 1))\n",
       "  (conv2): Conv2d(32, 64, kernel_size=(3, 3), stride=(1, 1), padding=(1, 1))\n",
       "  (conv3): Conv2d(64, 128, kernel_size=(3, 3), stride=(1, 1), padding=(1, 1))\n",
       "  (pool): MaxPool2d(kernel_size=2, stride=2, padding=0, dilation=1, ceil_mode=False)\n",
       "  (fc1): QuantLinear()\n",
       "  (fc2): QuantLinear()\n",
       "  (relu): ReLU()\n",
       ")"
      ]
     },
     "execution_count": 7,
     "metadata": {},
     "output_type": "execute_result"
    }
   ],
   "source": [
    "Qunat_model = convertDenseLayer(CNNmodel)\n",
    "Qunat_model"
   ]
  }
 ],
 "metadata": {
  "kernelspec": {
   "display_name": "Quant",
   "language": "python",
   "name": "python3"
  },
  "language_info": {
   "codemirror_mode": {
    "name": "ipython",
    "version": 3
   },
   "file_extension": ".py",
   "mimetype": "text/x-python",
   "name": "python",
   "nbconvert_exporter": "python",
   "pygments_lexer": "ipython3",
   "version": "3.9.0"
  }
 },
 "nbformat": 4,
 "nbformat_minor": 2
}
