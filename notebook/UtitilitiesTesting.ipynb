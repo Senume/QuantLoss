{
 "cells": [
  {
   "cell_type": "markdown",
   "metadata": {},
   "source": [
    "### **IMPORT LIBRARY**\n"
   ]
  },
  {
   "cell_type": "code",
   "execution_count": 5,
   "metadata": {},
   "outputs": [],
   "source": [
    "# Import library\n",
    "import numpy as np\n",
    "import torch.nn as nn, torch\n",
    "from scipy.signal import savgol_filter\n",
    "from scipy import sparse\n",
    "import matplotlib.pyplot as plt\n",
    "import pickle\n",
    "import sys\n",
    "\n",
    "# Adding path to py files\n",
    "sys.path.append('../src')\n",
    "\n",
    "# Importing the custom quantization module\n",
    "from CustomQuantization import CustomQuantization as quant\n",
    "from convertQuantizeModel import convertDenseLayer\n",
    "from QuantLinearLayer import QuantLinear"
   ]
  },
  {
   "cell_type": "markdown",
   "metadata": {},
   "source": [
    "### **LOADING WEIGHTS**\n"
   ]
  },
  {
   "cell_type": "code",
   "execution_count": 6,
   "metadata": {},
   "outputs": [],
   "source": [
    "# Weights file names\n",
    "bert_weight_name = 'bert-base-uncased'\n",
    "\n",
    "# Loading bert model\n",
    "with open(f'../saved/weights_only/{bert_weight_name}_weights.pkl','rb') as file:\n",
    "    bert_weights_dict = pickle.load(file)\n",
    "\n",
    "weight = bert_weights_dict['encoder.layer.9.attention.self.value.weight']"
   ]
  },
  {
   "cell_type": "markdown",
   "metadata": {},
   "source": [
    "### **QUANTIZATION MODULE**\n"
   ]
  },
  {
   "cell_type": "code",
   "execution_count": 7,
   "metadata": {},
   "outputs": [
    {
     "name": "stdout",
     "output_type": "stream",
     "text": [
      "Local minimum:  -0.19814117  Local max:  0.20933148 Points:  407\n",
      "Ratio of first region range coverage: 0.3308641975308642 Region of selection index:  1\n",
      "Ratio of second region range coverage: 0.10864197530864196 Region of selection index:  2\n",
      "(-0.14107497757717197, -0.006919361376352323) (0.03412825253583876, 0.07817935039282431)\n"
     ]
    }
   ],
   "source": [
    "QuantizationObject = quant()\n",
    "\n",
    "# Finding suitable weight range \n",
    "QuantizationObject.extractRange(weight.copy(), save_plot=False, plot_path='./plots/Sample.png')\n",
    "\n",
    "# Applying quantization\n",
    "QuantizationObject.proceedQuantization(weight.copy())"
   ]
  },
  {
   "cell_type": "markdown",
   "metadata": {},
   "source": [
    "### **DUMMY MODEL CONVERSION TESTING**\n"
   ]
  },
  {
   "cell_type": "code",
   "execution_count": 8,
   "metadata": {},
   "outputs": [
    {
     "data": {
      "text/plain": [
       "NNModel(\n",
       "  (fc1): Linear(in_features=1000, out_features=120, bias=True)\n",
       "  (fc2): Linear(in_features=120, out_features=84, bias=True)\n",
       "  (fc3): Linear(in_features=84, out_features=10, bias=True)\n",
       ")"
      ]
     },
     "execution_count": 8,
     "metadata": {},
     "output_type": "execute_result"
    }
   ],
   "source": [
    "class NNModel(nn.Module):\n",
    "    def __init__(self):\n",
    "        super(NNModel, self).__init__()\n",
    "        self.fc1 = nn.Linear(1000, 120)\n",
    "        self.fc2 = nn.Linear(120, 84)\n",
    "        self.fc3 = nn.Linear(84, 10)\n",
    "\n",
    "    def forward(self, x):\n",
    "        x = self.fc1(x)\n",
    "        x = self.fc2(x)\n",
    "        x = self.fc3(x)\n",
    "        return x    \n",
    "    \n",
    "# Dummy Model\n",
    "SimpleNN = NNModel()\n",
    "SimpleNN"
   ]
  },
  {
   "cell_type": "code",
   "execution_count": 9,
   "metadata": {},
   "outputs": [
    {
     "name": "stdout",
     "output_type": "stream",
     "text": [
      "Local minimum:  -0.031622294  Local max:  0.031622723 Points:  63\n",
      "Ratio of first region range coverage: 0.34426229508196715 Region of selection index:  1\n",
      "Ratio of second region range coverage: 0.2786885245901639 Region of selection index:  0\n",
      "(0.008533272064394422, 0.029614944424894117) (-0.03162229433655739, -0.014556178616152871)\n",
      "Local minimum:  -0.09127197  Local max:  0.09128484 Points:  182\n",
      "Ratio of first region range coverage: 0.27222222222222214 Region of selection index:  2\n",
      "Ratio of second region range coverage: 0.23333333333333336 Region of selection index:  0\n",
      "(0.040128812685117615, 0.08927872252988289) (-0.09127196669578552, -0.049143472543129556)\n",
      "Local minimum:  -0.10876174  Local max:  0.10891559 Points:  217\n",
      "Ratio of first region range coverage: 0.18139534883720929 Region of selection index:  5\n",
      "Ratio of second region range coverage: 0.14418604651162792 Region of selection index:  3\n",
      "(0.014622183061689817, 0.0537439156237835) (-0.06462440341024356, -0.0335276416301178)\n"
     ]
    },
    {
     "data": {
      "text/plain": [
       "NNModel(\n",
       "  (fc1): QuantLinear()\n",
       "  (fc2): QuantLinear()\n",
       "  (fc3): QuantLinear()\n",
       ")"
      ]
     },
     "execution_count": 9,
     "metadata": {},
     "output_type": "execute_result"
    }
   ],
   "source": [
    "QuantNN = convertDenseLayer(SimpleNN, requires_plot=True)\n",
    "QuantNN"
   ]
  },
  {
   "cell_type": "code",
   "execution_count": 10,
   "metadata": {},
   "outputs": [
    {
     "data": {
      "text/plain": [
       "SimpleCNN(\n",
       "  (conv1): Conv2d(3, 32, kernel_size=(3, 3), stride=(1, 1), padding=(1, 1))\n",
       "  (conv2): Conv2d(32, 64, kernel_size=(3, 3), stride=(1, 1), padding=(1, 1))\n",
       "  (conv3): Conv2d(64, 128, kernel_size=(3, 3), stride=(1, 1), padding=(1, 1))\n",
       "  (pool): MaxPool2d(kernel_size=2, stride=2, padding=0, dilation=1, ceil_mode=False)\n",
       "  (fc1): Linear(in_features=2048, out_features=512, bias=True)\n",
       "  (fc2): Linear(in_features=512, out_features=10, bias=True)\n",
       "  (relu): ReLU()\n",
       ")"
      ]
     },
     "execution_count": 10,
     "metadata": {},
     "output_type": "execute_result"
    }
   ],
   "source": [
    "class SimpleCNN(nn.Module):\n",
    "    def __init__(self, num_classes=10):\n",
    "        super(SimpleCNN, self).__init__()\n",
    "        \n",
    "        # Define convolutional layers\n",
    "        self.conv1 = nn.Conv2d(in_channels=3, out_channels=32, kernel_size=3, padding=1)\n",
    "        self.conv2 = nn.Conv2d(32, 64, kernel_size=3, padding=1)\n",
    "        self.conv3 = nn.Conv2d(64, 128, kernel_size=3, padding=1)\n",
    "        \n",
    "        # Define max pooling layers\n",
    "        self.pool = nn.MaxPool2d(kernel_size=2, stride=2)\n",
    "        \n",
    "        # Define fully connected layers\n",
    "        self.fc1 = nn.Linear(128 * 4 * 4, 512)\n",
    "        self.fc2 = nn.Linear(512, num_classes)\n",
    "        \n",
    "        # Define activation function\n",
    "        self.relu = nn.ReLU()\n",
    "\n",
    "    def forward(self, x):\n",
    "        # Convolutional layers with ReLU activation and max pooling\n",
    "        x = self.pool(self.relu(self.conv1(x)))\n",
    "        x = self.pool(self.relu(self.conv2(x)))\n",
    "        x = self.pool(self.relu(self.conv3(x)))\n",
    "        \n",
    "        # Flatten the tensor for fully connected layers\n",
    "        x = x.view(-1, 128 * 4 * 4)\n",
    "        \n",
    "        # Fully connected layers with ReLU activation\n",
    "        x = self.relu(self.fc1(x))\n",
    "        x = self.fc2(x)\n",
    "        return x\n",
    "\n",
    "# Create an instance of the SimpleCNN model\n",
    "CNNmodel = SimpleCNN()\n",
    "CNNmodel\n"
   ]
  },
  {
   "cell_type": "code",
   "execution_count": 11,
   "metadata": {},
   "outputs": [
    {
     "name": "stdout",
     "output_type": "stream",
     "text": [
      "Local minimum:  -0.022097087  Local max:  0.022097042 Points:  44\n"
     ]
    },
    {
     "name": "stdout",
     "output_type": "stream",
     "text": [
      "Ratio of first region range coverage: 0.38095238095238093 Region of selection index:  0\n",
      "Ratio of second region range coverage: 0.38095238095238093 Region of selection index:  1\n",
      "(-0.022097086533904076, -0.006026494401422413) (0.0040176256813786275, 0.02008821781386029)\n",
      "Local minimum:  -0.04413873  Local max:  0.0441814 Points:  88\n",
      "Ratio of first region range coverage: 0.37209302325581395 Region of selection index:  4\n",
      "Ratio of second region range coverage: 0.22093023255813954 Region of selection index:  0\n",
      "(0.01005771298977462, 0.042174123396927665) (-0.04413872957229614, -0.025069610893049023)\n"
     ]
    },
    {
     "data": {
      "text/plain": [
       "SimpleCNN(\n",
       "  (conv1): Conv2d(3, 32, kernel_size=(3, 3), stride=(1, 1), padding=(1, 1))\n",
       "  (conv2): Conv2d(32, 64, kernel_size=(3, 3), stride=(1, 1), padding=(1, 1))\n",
       "  (conv3): Conv2d(64, 128, kernel_size=(3, 3), stride=(1, 1), padding=(1, 1))\n",
       "  (pool): MaxPool2d(kernel_size=2, stride=2, padding=0, dilation=1, ceil_mode=False)\n",
       "  (fc1): QuantLinear()\n",
       "  (fc2): QuantLinear()\n",
       "  (relu): ReLU()\n",
       ")"
      ]
     },
     "execution_count": 11,
     "metadata": {},
     "output_type": "execute_result"
    }
   ],
   "source": [
    "Qunat_model = convertDenseLayer(CNNmodel)\n",
    "Qunat_model"
   ]
  }
 ],
 "metadata": {
  "kernelspec": {
   "display_name": "Quant",
   "language": "python",
   "name": "python3"
  },
  "language_info": {
   "codemirror_mode": {
    "name": "ipython",
    "version": 3
   },
   "file_extension": ".py",
   "mimetype": "text/x-python",
   "name": "python",
   "nbconvert_exporter": "python",
   "pygments_lexer": "ipython3",
   "version": "3.9.0"
  }
 },
 "nbformat": 4,
 "nbformat_minor": 2
}
