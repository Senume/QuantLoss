{
 "cells": [
  {
   "cell_type": "code",
   "execution_count": 13,
   "metadata": {},
   "outputs": [],
   "source": [
    "import sys\n",
    "\n",
    "class TwoBits:\n",
    "    def __init__(self,):\n",
    "        self.data = 0\n",
    "\n",
    "    def extract(self, value):\n",
    "        if value < 0.25:\n",
    "            self.updateBit(0, 0)\n",
    "            self.updateBit(1, 0)\n",
    "\n",
    "        elif value < 0.5:\n",
    "            self.updateBit(0, 1)\n",
    "            self.updateBit(1, 0)\n",
    "        elif value < 0.75:\n",
    "            self.updateBit(0, 0)\n",
    "            self.updateBit(1, 1)\n",
    "        else:\n",
    "            self.updateBit(0, 1)\n",
    "            self.updateBit(1, 1)\n",
    "    \n",
    "    def updateBit(self, position, value):\n",
    "        # Create a mask to update the bit at the specified position\n",
    "        mask = 1 << position\n",
    "        # Clear the bit at the specified position\n",
    "        self.data = self.data & ~mask\n",
    "        # Set the bit to the given value\n",
    "        if value:\n",
    "            self.data = self.data | mask\n",
    "\n",
    "\n",
    "    def BitsPrint(self):\n",
    "        print(\"Representation: \", bin(self.data))\n"
   ]
  },
  {
   "cell_type": "code",
   "execution_count": 20,
   "metadata": {},
   "outputs": [
    {
     "name": "stdout",
     "output_type": "stream",
     "text": [
      "Representation:  0b11\n"
     ]
    }
   ],
   "source": [
    "A = TwoBits()\n",
    "A.extract(0.79)\n",
    "A.BitsPrint()"
   ]
  },
  {
   "cell_type": "code",
   "execution_count": 22,
   "metadata": {},
   "outputs": [
    {
     "ename": "SyntaxError",
     "evalue": "leading zeros in decimal integer literals are not permitted; use an 0o prefix for octal integers (207597917.py, line 1)",
     "output_type": "error",
     "traceback": [
      "\u001b[0;36m  Cell \u001b[0;32mIn[22], line 1\u001b[0;36m\u001b[0m\n\u001b[0;31m    01|01|01|00\u001b[0m\n\u001b[0m     ^\u001b[0m\n\u001b[0;31mSyntaxError\u001b[0m\u001b[0;31m:\u001b[0m leading zeros in decimal integer literals are not permitted; use an 0o prefix for octal integers\n"
     ]
    }
   ],
   "source": [
    "[01|01|01|00]"
   ]
  },
  {
   "cell_type": "code",
   "execution_count": null,
   "metadata": {},
   "outputs": [],
   "source": []
  }
 ],
 "metadata": {
  "kernelspec": {
   "display_name": "Quant",
   "language": "python",
   "name": "python3"
  },
  "language_info": {
   "codemirror_mode": {
    "name": "ipython",
    "version": 3
   },
   "file_extension": ".py",
   "mimetype": "text/x-python",
   "name": "python",
   "nbconvert_exporter": "python",
   "pygments_lexer": "ipython3",
   "version": "3.9.0"
  }
 },
 "nbformat": 4,
 "nbformat_minor": 2
}
